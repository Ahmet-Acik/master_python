{
 "cells": [
  {
   "cell_type": "markdown",
   "metadata": {},
   "source": [
    "## Key features:\n",
    "1. Creating dictionaries using:\n",
    "    - Curly braces\n",
    "    - The `dict` constructor with key-value pairs, lists of tuples, etc.\n",
    "2. Basic dictionary operations including:\n",
    "    - Accessing, adding, updating, and removing elements\n",
    "    - methods like: `clear`, `copy`, `get`, `pop`, `popitem`, and `update`\n",
    "    - Checking if a key or value exists in a dictionary\n",
    "3. Dictionary built-in methods:\n",
    "    - `keys`, `values`, `items` for iterating over dictionaries\n",
    "    - Dictionary comprehensions\n",
    "4. Merging dictionaries using the `|` operator and the `update` method\n",
    "5. Using dictionaries versus lists for data storage and retrieval:\n",
    "    - Demonstrating querying data and organizing data workers for performance\n",
    "6. JSON handling techniques including conversion of:\n",
    "    - Dictionaries to JSON strings using `json.dumps()`\n",
    "    - JSON strings to dictionaries using `json.loads()`\n",
    "7. Sales data processing:\n",
    "    - Example of handling a list of dictionaries\n",
    "    - Aggregating and summing sales data by product"
   ]
  },
  {
   "cell_type": "code",
   "execution_count": 1,
   "metadata": {},
   "outputs": [
    {
     "name": "stdout",
     "output_type": "stream",
     "text": [
      "Tommy speaks\n",
      "Tommy says Woof\n",
      "Kitty speaks\n",
      "Kitty says Meow\n",
      "5\n",
      "Bulldog\n",
      "White\n",
      "Persian\n",
      "Hi, my name is Alice and I am 30 years old.\n",
      "Address updated to: 456 Elm St\n",
      "Employee E123 is working.\n",
      "Salary increased by 5000. New salary: 75000\n",
      "Alice is coding in Python, JavaScript.\n",
      "Skill Java added. Current skills: Python, JavaScript, Java\n",
      "Philips Hue is powering on.\n",
      "Connecting to the internet with IP address 192.168.1.10.\n",
      "Brightness set to 100.\n",
      "Disconnecting from the internet with IP address 192.168.1.10.\n",
      "Philips Hue is powering off.\n",
      "Hi, my name is Alice and I am 25 years old.\n",
      "Studying Computer Science.\n",
      "Alice is assisting in courses: CS101, CS102.\n",
      "2022 Toyota Prius is starting.\n",
      "Charging the battery to 8.8 kWh.\n",
      "Refueling the car with 45 liters of fuel.\n",
      "2022 Toyota Prius is stopping.\n",
      "Playing mp3 format.\n",
      "Recording in HD quality.\n",
      "Storing media in 128 GB storage.\n",
      "78.5\n",
      "31.400000000000002\n",
      "Tommy says Woof!\n",
      "Kitty says Meow!\n",
      "Jerry says Squeak!\n",
      "{\"name\": \"Alice\", \"age\": 30}\n",
      "<name>Alice</name><age>30</age>\n",
      "[LOG] User: Alice\n",
      "Timestamp: 2024-11-25 20:58:31\n",
      "[LOG] Product: Laptop\n",
      "Timestamp: 2024-11-25 20:58:31\n",
      "Car starting.\n",
      "Engine starting.\n",
      "Car stopping.\n",
      "Engine stopping.\n",
      "CPU Intel i7 processing.\n",
      "RAM 16GB loading.\n",
      "Storage 512GB reading.\n",
      "Computer starting.\n",
      "Living Room with area 20 square meters.\n",
      "Kitchen with area 15 square meters.\n",
      "Bedroom with area 25 square meters.\n"
     ]
    }
   ],
   "source": [
    "# Import the necessary classes from your project\n",
    "\n",
    "from oop2 import Person, JSONMixin, XMLMixin"
   ]
  },
  {
   "cell_type": "code",
   "execution_count": 2,
   "metadata": {},
   "outputs": [],
   "source": [
    "# Create an instance of the Person class\n",
    "person = Person(\"Alice\", 30)"
   ]
  },
  {
   "cell_type": "code",
   "execution_count": 3,
   "metadata": {},
   "outputs": [
    {
     "name": "stdout",
     "output_type": "stream",
     "text": [
      "JSON Output: {\"name\": \"Alice\", \"age\": 30}\n"
     ]
    }
   ],
   "source": [
    "# Use the JSONMixin to convert the person object to JSON\n",
    "json_output = person.to_json()\n",
    "print(\"JSON Output:\", json_output)"
   ]
  },
  {
   "cell_type": "code",
   "execution_count": 4,
   "metadata": {},
   "outputs": [
    {
     "name": "stdout",
     "output_type": "stream",
     "text": [
      "XML Output: <name>Alice</name><age>30</age>\n"
     ]
    }
   ],
   "source": [
    "# Use the XMLMixin to convert the person object to XML\n",
    "xml_output = person.to_xml()\n",
    "print(\"XML Output:\", xml_output)"
   ]
  },
  {
   "cell_type": "code",
   "execution_count": null,
   "metadata": {},
   "outputs": [
    {
     "name": "stdout",
     "output_type": "stream",
     "text": [
      "invalid literal for int() with base 10: 'ten'\n",
      "This will be executed no matter what.\n"
     ]
    }
   ],
   "source": [
    "try:\n",
    "    # user_input = int(input(\"Enter a number: \"), 10)\n",
    "    user_input = int(input(\"Enter a number: \"))\n",
    "    result = 10 / user_input\n",
    "    print(result)\n",
    "except ZeroDivisionError as e:\n",
    "    print(e)\n",
    "except ValueError as e:\n",
    "    print(e)\n",
    "except Exception as e:\n",
    "    print(e)\n",
    "else:\n",
    "    print(\"No exception occurred.\")\n",
    "finally:\n",
    "    print(\"This will be executed no matter what.\")"
   ]
  }
 ],
 "metadata": {
  "kernelspec": {
   "display_name": ".venv",
   "language": "python",
   "name": "python3"
  },
  "language_info": {
   "codemirror_mode": {
    "name": "ipython",
    "version": 3
   },
   "file_extension": ".py",
   "mimetype": "text/x-python",
   "name": "python",
   "nbconvert_exporter": "python",
   "pygments_lexer": "ipython3",
   "version": "3.13.0"
  }
 },
 "nbformat": 4,
 "nbformat_minor": 2
}
